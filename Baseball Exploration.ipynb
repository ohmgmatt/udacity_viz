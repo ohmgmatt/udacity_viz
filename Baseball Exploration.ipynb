{
 "cells": [
  {
   "cell_type": "code",
   "execution_count": 2,
   "metadata": {
    "collapsed": true
   },
   "outputs": [],
   "source": [
    "import pandas as pd\n",
    "import numpy as np"
   ]
  },
  {
   "cell_type": "code",
   "execution_count": 6,
   "metadata": {},
   "outputs": [],
   "source": [
    "bb_df = pd.read_csv('baseball_data.csv')"
   ]
  },
  {
   "cell_type": "code",
   "execution_count": 8,
   "metadata": {},
   "outputs": [
    {
     "data": {
      "text/html": [
       "<div>\n",
       "<table border=\"1\" class=\"dataframe\">\n",
       "  <thead>\n",
       "    <tr style=\"text-align: right;\">\n",
       "      <th></th>\n",
       "      <th>name</th>\n",
       "      <th>handedness</th>\n",
       "      <th>height</th>\n",
       "      <th>weight</th>\n",
       "      <th>avg</th>\n",
       "      <th>HR</th>\n",
       "    </tr>\n",
       "  </thead>\n",
       "  <tbody>\n",
       "    <tr>\n",
       "      <th>0</th>\n",
       "      <td>Tom Brown</td>\n",
       "      <td>R</td>\n",
       "      <td>73</td>\n",
       "      <td>170</td>\n",
       "      <td>0.000</td>\n",
       "      <td>0</td>\n",
       "    </tr>\n",
       "    <tr>\n",
       "      <th>1</th>\n",
       "      <td>Denny Lemaster</td>\n",
       "      <td>R</td>\n",
       "      <td>73</td>\n",
       "      <td>182</td>\n",
       "      <td>0.130</td>\n",
       "      <td>4</td>\n",
       "    </tr>\n",
       "    <tr>\n",
       "      <th>2</th>\n",
       "      <td>Joe Nolan</td>\n",
       "      <td>L</td>\n",
       "      <td>71</td>\n",
       "      <td>175</td>\n",
       "      <td>0.263</td>\n",
       "      <td>27</td>\n",
       "    </tr>\n",
       "    <tr>\n",
       "      <th>3</th>\n",
       "      <td>Denny Doyle</td>\n",
       "      <td>L</td>\n",
       "      <td>69</td>\n",
       "      <td>175</td>\n",
       "      <td>0.250</td>\n",
       "      <td>16</td>\n",
       "    </tr>\n",
       "    <tr>\n",
       "      <th>4</th>\n",
       "      <td>Jose Cardenal</td>\n",
       "      <td>R</td>\n",
       "      <td>70</td>\n",
       "      <td>150</td>\n",
       "      <td>0.275</td>\n",
       "      <td>138</td>\n",
       "    </tr>\n",
       "    <tr>\n",
       "      <th>5</th>\n",
       "      <td>Mike Ryan</td>\n",
       "      <td>R</td>\n",
       "      <td>74</td>\n",
       "      <td>205</td>\n",
       "      <td>0.193</td>\n",
       "      <td>28</td>\n",
       "    </tr>\n",
       "    <tr>\n",
       "      <th>6</th>\n",
       "      <td>Fritz Peterson</td>\n",
       "      <td>B</td>\n",
       "      <td>72</td>\n",
       "      <td>185</td>\n",
       "      <td>0.159</td>\n",
       "      <td>2</td>\n",
       "    </tr>\n",
       "    <tr>\n",
       "      <th>7</th>\n",
       "      <td>Dick Bertell</td>\n",
       "      <td>R</td>\n",
       "      <td>72</td>\n",
       "      <td>200</td>\n",
       "      <td>0.250</td>\n",
       "      <td>10</td>\n",
       "    </tr>\n",
       "    <tr>\n",
       "      <th>8</th>\n",
       "      <td>Rod Kanehl</td>\n",
       "      <td>R</td>\n",
       "      <td>73</td>\n",
       "      <td>180</td>\n",
       "      <td>0.241</td>\n",
       "      <td>6</td>\n",
       "    </tr>\n",
       "    <tr>\n",
       "      <th>9</th>\n",
       "      <td>Ozzie Osborn</td>\n",
       "      <td>R</td>\n",
       "      <td>74</td>\n",
       "      <td>195</td>\n",
       "      <td>0.000</td>\n",
       "      <td>0</td>\n",
       "    </tr>\n",
       "  </tbody>\n",
       "</table>\n",
       "</div>"
      ],
      "text/plain": [
       "             name handedness  height  weight    avg   HR\n",
       "0       Tom Brown          R      73     170  0.000    0\n",
       "1  Denny Lemaster          R      73     182  0.130    4\n",
       "2       Joe Nolan          L      71     175  0.263   27\n",
       "3     Denny Doyle          L      69     175  0.250   16\n",
       "4   Jose Cardenal          R      70     150  0.275  138\n",
       "5       Mike Ryan          R      74     205  0.193   28\n",
       "6  Fritz Peterson          B      72     185  0.159    2\n",
       "7    Dick Bertell          R      72     200  0.250   10\n",
       "8      Rod Kanehl          R      73     180  0.241    6\n",
       "9    Ozzie Osborn          R      74     195  0.000    0"
      ]
     },
     "execution_count": 8,
     "metadata": {},
     "output_type": "execute_result"
    }
   ],
   "source": [
    "bb_df.head(10)"
   ]
  },
  {
   "cell_type": "markdown",
   "metadata": {},
   "source": [
    "From this we can see that we have five columns of data and a sixth for an identifier. Handedness looks to be whether a person was left-handed, right-handed or ambidextrous. Height looks to be in inches. Weight looks to be in pounds. AVG, from the data dictionary, is the batting average for that person. HR is the amount of home runs for that person."
   ]
  },
  {
   "cell_type": "code",
   "execution_count": 9,
   "metadata": {},
   "outputs": [
    {
     "name": "stdout",
     "output_type": "stream",
     "text": [
      "<class 'pandas.core.frame.DataFrame'>\n",
      "RangeIndex: 1157 entries, 0 to 1156\n",
      "Data columns (total 6 columns):\n",
      "name          1157 non-null object\n",
      "handedness    1157 non-null object\n",
      "height        1157 non-null int64\n",
      "weight        1157 non-null int64\n",
      "avg           1157 non-null float64\n",
      "HR            1157 non-null int64\n",
      "dtypes: float64(1), int64(3), object(2)\n",
      "memory usage: 54.3+ KB\n"
     ]
    }
   ],
   "source": [
    "bb_df.info()"
   ]
  },
  {
   "cell_type": "markdown",
   "metadata": {},
   "source": [
    "We can see that our dataset contains 1157 values. "
   ]
  },
  {
   "cell_type": "code",
   "execution_count": 12,
   "metadata": {},
   "outputs": [
    {
     "data": {
      "text/plain": [
       "handedness\n",
       "B    104\n",
       "L    316\n",
       "R    737\n",
       "Name: name, dtype: int64"
      ]
     },
     "execution_count": 12,
     "metadata": {},
     "output_type": "execute_result"
    }
   ],
   "source": [
    "bb_df.groupby('handedness')['name'].count()"
   ]
  },
  {
   "cell_type": "markdown",
   "metadata": {
    "collapsed": true
   },
   "source": [
    "From this, we can see that around 104 (8.99%) people are ambidextrous, 316 (27.31%) are left handed while the rest, 737 (63.70%), are right handed. "
   ]
  },
  {
   "cell_type": "code",
   "execution_count": 22,
   "metadata": {},
   "outputs": [
    {
     "data": {
      "text/html": [
       "<div>\n",
       "<table border=\"1\" class=\"dataframe\">\n",
       "  <thead>\n",
       "    <tr style=\"text-align: right;\">\n",
       "      <th></th>\n",
       "      <th>weight</th>\n",
       "      <th>avg</th>\n",
       "      <th>HR</th>\n",
       "    </tr>\n",
       "    <tr>\n",
       "      <th>height</th>\n",
       "      <th></th>\n",
       "      <th></th>\n",
       "      <th></th>\n",
       "    </tr>\n",
       "  </thead>\n",
       "  <tbody>\n",
       "    <tr>\n",
       "      <th>65</th>\n",
       "      <td>148.000000</td>\n",
       "      <td>0.242000</td>\n",
       "      <td>41.000000</td>\n",
       "    </tr>\n",
       "    <tr>\n",
       "      <th>66</th>\n",
       "      <td>162.500000</td>\n",
       "      <td>0.254500</td>\n",
       "      <td>18.000000</td>\n",
       "    </tr>\n",
       "    <tr>\n",
       "      <th>67</th>\n",
       "      <td>159.250000</td>\n",
       "      <td>0.263250</td>\n",
       "      <td>100.000000</td>\n",
       "    </tr>\n",
       "    <tr>\n",
       "      <th>68</th>\n",
       "      <td>165.545455</td>\n",
       "      <td>0.229818</td>\n",
       "      <td>14.181818</td>\n",
       "    </tr>\n",
       "    <tr>\n",
       "      <th>69</th>\n",
       "      <td>165.463415</td>\n",
       "      <td>0.236122</td>\n",
       "      <td>26.463415</td>\n",
       "    </tr>\n",
       "    <tr>\n",
       "      <th>70</th>\n",
       "      <td>170.758929</td>\n",
       "      <td>0.230643</td>\n",
       "      <td>39.491071</td>\n",
       "    </tr>\n",
       "    <tr>\n",
       "      <th>71</th>\n",
       "      <td>175.965517</td>\n",
       "      <td>0.208186</td>\n",
       "      <td>47.213793</td>\n",
       "    </tr>\n",
       "    <tr>\n",
       "      <th>72</th>\n",
       "      <td>181.271552</td>\n",
       "      <td>0.212819</td>\n",
       "      <td>42.301724</td>\n",
       "    </tr>\n",
       "    <tr>\n",
       "      <th>73</th>\n",
       "      <td>184.360825</td>\n",
       "      <td>0.192660</td>\n",
       "      <td>50.974227</td>\n",
       "    </tr>\n",
       "    <tr>\n",
       "      <th>74</th>\n",
       "      <td>190.811111</td>\n",
       "      <td>0.179272</td>\n",
       "      <td>61.138889</td>\n",
       "    </tr>\n",
       "    <tr>\n",
       "      <th>75</th>\n",
       "      <td>195.330579</td>\n",
       "      <td>0.147298</td>\n",
       "      <td>49.570248</td>\n",
       "    </tr>\n",
       "    <tr>\n",
       "      <th>76</th>\n",
       "      <td>201.106061</td>\n",
       "      <td>0.104288</td>\n",
       "      <td>34.000000</td>\n",
       "    </tr>\n",
       "    <tr>\n",
       "      <th>77</th>\n",
       "      <td>204.100000</td>\n",
       "      <td>0.047700</td>\n",
       "      <td>1.700000</td>\n",
       "    </tr>\n",
       "    <tr>\n",
       "      <th>78</th>\n",
       "      <td>216.272727</td>\n",
       "      <td>0.046182</td>\n",
       "      <td>40.181818</td>\n",
       "    </tr>\n",
       "    <tr>\n",
       "      <th>79</th>\n",
       "      <td>216.000000</td>\n",
       "      <td>0.085333</td>\n",
       "      <td>13.666667</td>\n",
       "    </tr>\n",
       "    <tr>\n",
       "      <th>80</th>\n",
       "      <td>225.500000</td>\n",
       "      <td>0.042000</td>\n",
       "      <td>2.500000</td>\n",
       "    </tr>\n",
       "  </tbody>\n",
       "</table>\n",
       "</div>"
      ],
      "text/plain": [
       "            weight       avg          HR\n",
       "height                                  \n",
       "65      148.000000  0.242000   41.000000\n",
       "66      162.500000  0.254500   18.000000\n",
       "67      159.250000  0.263250  100.000000\n",
       "68      165.545455  0.229818   14.181818\n",
       "69      165.463415  0.236122   26.463415\n",
       "70      170.758929  0.230643   39.491071\n",
       "71      175.965517  0.208186   47.213793\n",
       "72      181.271552  0.212819   42.301724\n",
       "73      184.360825  0.192660   50.974227\n",
       "74      190.811111  0.179272   61.138889\n",
       "75      195.330579  0.147298   49.570248\n",
       "76      201.106061  0.104288   34.000000\n",
       "77      204.100000  0.047700    1.700000\n",
       "78      216.272727  0.046182   40.181818\n",
       "79      216.000000  0.085333   13.666667\n",
       "80      225.500000  0.042000    2.500000"
      ]
     },
     "execution_count": 22,
     "metadata": {},
     "output_type": "execute_result"
    }
   ],
   "source": [
    "bb_df.groupby('height').mean()"
   ]
  },
  {
   "cell_type": "markdown",
   "metadata": {},
   "source": [
    "Whoa. Why does it look like those who are 67 inches (5' 7\") hit the most home runs? Are they just physically more capable and therefore apt at baseball? Debatable. Let's dive deeper."
   ]
  },
  {
   "cell_type": "code",
   "execution_count": 25,
   "metadata": {},
   "outputs": [
    {
     "data": {
      "text/html": [
       "<div>\n",
       "<table border=\"1\" class=\"dataframe\">\n",
       "  <thead>\n",
       "    <tr style=\"text-align: right;\">\n",
       "      <th></th>\n",
       "      <th>name</th>\n",
       "      <th>handedness</th>\n",
       "      <th>height</th>\n",
       "      <th>weight</th>\n",
       "      <th>avg</th>\n",
       "      <th>HR</th>\n",
       "    </tr>\n",
       "  </thead>\n",
       "  <tbody>\n",
       "    <tr>\n",
       "      <th>471</th>\n",
       "      <td>Vic Davalillo</td>\n",
       "      <td>L</td>\n",
       "      <td>67</td>\n",
       "      <td>150</td>\n",
       "      <td>0.279</td>\n",
       "      <td>36</td>\n",
       "    </tr>\n",
       "    <tr>\n",
       "      <th>638</th>\n",
       "      <td>Don Buford</td>\n",
       "      <td>B</td>\n",
       "      <td>67</td>\n",
       "      <td>160</td>\n",
       "      <td>0.264</td>\n",
       "      <td>93</td>\n",
       "    </tr>\n",
       "    <tr>\n",
       "      <th>672</th>\n",
       "      <td>Joe Morgan</td>\n",
       "      <td>L</td>\n",
       "      <td>67</td>\n",
       "      <td>160</td>\n",
       "      <td>0.271</td>\n",
       "      <td>268</td>\n",
       "    </tr>\n",
       "    <tr>\n",
       "      <th>1065</th>\n",
       "      <td>Ron Brand</td>\n",
       "      <td>R</td>\n",
       "      <td>67</td>\n",
       "      <td>167</td>\n",
       "      <td>0.239</td>\n",
       "      <td>3</td>\n",
       "    </tr>\n",
       "  </tbody>\n",
       "</table>\n",
       "</div>"
      ],
      "text/plain": [
       "               name handedness  height  weight    avg   HR\n",
       "471   Vic Davalillo          L      67     150  0.279   36\n",
       "638      Don Buford          B      67     160  0.264   93\n",
       "672      Joe Morgan          L      67     160  0.271  268\n",
       "1065      Ron Brand          R      67     167  0.239    3"
      ]
     },
     "execution_count": 25,
     "metadata": {},
     "output_type": "execute_result"
    }
   ],
   "source": [
    "bb_df[bb_df['height']==67]"
   ]
  },
  {
   "cell_type": "markdown",
   "metadata": {},
   "source": [
    "It looks like one man, Joe Morgan, actually hit the most of these home runes and is carrying the other 67\" men. If we remove him from the (for the sake of comparisons)"
   ]
  },
  {
   "cell_type": "code",
   "execution_count": 35,
   "metadata": {},
   "outputs": [
    {
     "data": {
      "text/plain": [
       "475"
      ]
     },
     "execution_count": 35,
     "metadata": {},
     "output_type": "execute_result"
    }
   ],
   "source": [
    "bb_df[bb_df['HR']<500]['HR'].max()"
   ]
  },
  {
   "cell_type": "code",
   "execution_count": null,
   "metadata": {},
   "outputs": [],
   "source": []
  },
  {
   "cell_type": "code",
   "execution_count": null,
   "metadata": {
    "collapsed": true
   },
   "outputs": [],
   "source": []
  }
 ],
 "metadata": {
  "kernelspec": {
   "display_name": "Python [conda env:DAND]",
   "language": "python",
   "name": "conda-env-DAND-py"
  },
  "language_info": {
   "codemirror_mode": {
    "name": "ipython",
    "version": 2
   },
   "file_extension": ".py",
   "mimetype": "text/x-python",
   "name": "python",
   "nbconvert_exporter": "python",
   "pygments_lexer": "ipython2",
   "version": "2.7.12"
  }
 },
 "nbformat": 4,
 "nbformat_minor": 2
}
